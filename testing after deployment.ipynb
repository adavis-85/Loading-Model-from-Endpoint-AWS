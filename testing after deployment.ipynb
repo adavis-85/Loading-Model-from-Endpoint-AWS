{
 "cells": [
  {
   "cell_type": "markdown",
   "id": "374b0231",
   "metadata": {},
   "source": [
    "# Importing Necessary Libraries "
   ]
  },
  {
   "cell_type": "code",
   "execution_count": 1,
   "id": "36dec2a5",
   "metadata": {},
   "outputs": [],
   "source": [
    "import numpy as np\n",
    "import pandas as pd\n",
    "import matplotlib.pyplot as plt\n",
    "from sklearn import metrics\n",
    "from sklearn.metrics import auc, accuracy_score, confusion_matrix\n",
    "from sklearn.metrics import accuracy_score,classification_report\n",
    "import seaborn as sns\n",
    "\n",
    "import os\n",
    "import io\n",
    "import boto3\n",
    "import json\n",
    "import csv\n",
    "from io import StringIO\n",
    "import sagemaker"
   ]
  },
  {
   "cell_type": "markdown",
   "id": "5136264e",
   "metadata": {},
   "source": [
    "# Load Endpoint and Key for Input"
   ]
  },
  {
   "cell_type": "code",
   "execution_count": 2,
   "id": "45f9bff8",
   "metadata": {},
   "outputs": [],
   "source": [
    "sagemaker = boto3.client('sagemaker')\n",
    "ENDPOINT_NAME = 'xgb-linsearch-20221106-15-35-44-002-cbc0d7a3'\n",
    "runtime= boto3.client('runtime.sagemaker')\n",
    "bucket = 'generic-data-bucket-zero'\n",
    "s3 = boto3.client('s3')\n",
    "key = 'test_set.csv'"
   ]
  },
  {
   "cell_type": "markdown",
   "id": "b69f7af2",
   "metadata": {},
   "source": [
    "# Reading Input and Gathering Predictions into Csv"
   ]
  },
  {
   "cell_type": "code",
   "execution_count": 3,
   "id": "cb4f2506",
   "metadata": {},
   "outputs": [
    {
     "data": {
      "text/plain": [
       "{'ResponseMetadata': {'RequestId': 'QQV2EVB070D2ANHB',\n",
       "  'HostId': '6Kmr5WOCRk2kbm1l2b8pqpjg41ir60P8H389EVSSXJRnvvAqoF5xu2l+dDJHw9FXDwvpR+lMsge9huhzo7F5uQ==',\n",
       "  'HTTPStatusCode': 200,\n",
       "  'HTTPHeaders': {'x-amz-id-2': '6Kmr5WOCRk2kbm1l2b8pqpjg41ir60P8H389EVSSXJRnvvAqoF5xu2l+dDJHw9FXDwvpR+lMsge9huhzo7F5uQ==',\n",
       "   'x-amz-request-id': 'QQV2EVB070D2ANHB',\n",
       "   'date': 'Sun, 06 Nov 2022 15:58:29 GMT',\n",
       "   'x-amz-version-id': 'ovohYvwibV1vBEim2crDLZIwDKEcuDVU',\n",
       "   'etag': '\"00b568b0164eb60b55fbf3cae9448da3\"',\n",
       "   'server': 'AmazonS3',\n",
       "   'content-length': '0'},\n",
       "  'RetryAttempts': 0},\n",
       " 'ETag': '\"00b568b0164eb60b55fbf3cae9448da3\"',\n",
       " 'VersionId': 'ovohYvwibV1vBEim2crDLZIwDKEcuDVU'}"
      ]
     },
     "execution_count": 3,
     "metadata": {},
     "output_type": "execute_result"
    }
   ],
   "source": [
    "response = s3.get_object(Bucket=bucket, Key=key)\n",
    "content = response['Body'].read().decode('utf-8')\n",
    "results = []\n",
    "for line in  content.splitlines():\n",
    "    response = runtime.invoke_endpoint(EndpointName=ENDPOINT_NAME,\n",
    "                                            ContentType='text/csv',\n",
    "                                            Body=line)\n",
    "    result = json.loads(response['Body'].read().decode())\n",
    "    results.append(result)\n",
    "    i = 0\n",
    "multiLine = \"\"\n",
    "for item in results:\n",
    "    if (i > 0):\n",
    "        multiLine = multiLine + '\\n'\n",
    "    multiLine = multiLine + str(item)\n",
    "    i+=1\n",
    "\n",
    "file_name = \"predictions.csv\"\n",
    "s3_resource = boto3.resource('s3')\n",
    "s3_resource.Object(bucket, file_name).put(Body=multiLine)"
   ]
  },
  {
   "cell_type": "markdown",
   "id": "3c99b02f",
   "metadata": {},
   "source": [
    "# Reading in Predictions "
   ]
  },
  {
   "cell_type": "code",
   "execution_count": 4,
   "id": "6e41a7a0",
   "metadata": {},
   "outputs": [],
   "source": [
    "object_key = 'predictions.csv'\n",
    "csv_obj = s3.get_object(Bucket=bucket, Key=object_key)\n",
    "body = csv_obj['Body']\n",
    "csv_string = body.read().decode('utf-8')\n",
    "\n",
    "predictions_array = pd.read_csv(StringIO(csv_string))"
   ]
  },
  {
   "cell_type": "markdown",
   "id": "cae27464",
   "metadata": {},
   "source": [
    "# Reading in Target to Test Accuracy"
   ]
  },
  {
   "cell_type": "code",
   "execution_count": 5,
   "id": "84f7b140",
   "metadata": {},
   "outputs": [],
   "source": [
    "object_key = 'test_target.csv'\n",
    "csv_obj = s3.get_object(Bucket=bucket, Key=object_key)\n",
    "body = csv_obj['Body']\n",
    "csv_string = body.read().decode('utf-8')\n",
    "\n",
    "test = pd.read_csv(StringIO(csv_string))"
   ]
  },
  {
   "cell_type": "markdown",
   "id": "cdce99dc",
   "metadata": {},
   "source": [
    "# Visualizing Accuracy of Model Endpoint"
   ]
  },
  {
   "cell_type": "code",
   "execution_count": 6,
   "id": "136e3b27",
   "metadata": {},
   "outputs": [
    {
     "data": {
      "text/plain": [
       "Text(0.5, 257.44, 'Predicted label')"
      ]
     },
     "execution_count": 6,
     "metadata": {},
     "output_type": "execute_result"
    },
    {
     "data": {
      "image/png": "[encoded data removed]",
      "text/plain": [
       "<Figure size 432x288 with 2 Axes>"
      ]
     },
     "metadata": {
      "needs_background": "light"
     },
     "output_type": "display_data"
    }
   ],
   "source": [
    "cm = metrics.confusion_matrix(test ,np.round(predictions_array))\n",
    "class_names=[0,1] # name  of classes\n",
    "fig, ax = plt.subplots()\n",
    "tick_marks = np.arange(len(class_names))\n",
    "plt.xticks(tick_marks, class_names)\n",
    "plt.yticks(tick_marks, class_names)\n",
    "# create heatmap\n",
    "sns.heatmap(pd.DataFrame(cm), annot=True, cmap=\"YlGnBu\" ,fmt='g')\n",
    "ax.xaxis.set_label_position(\"top\")\n",
    "plt.tight_layout()\n",
    "plt.title('Confusion matrix', y=1.1)\n",
    "plt.ylabel('Actual label')\n",
    "plt.xlabel('Predicted label')"
   ]
  },
  {
   "cell_type": "code",
   "execution_count": 7,
   "id": "4785d45e",
   "metadata": {},
   "outputs": [
    {
     "name": "stdout",
     "output_type": "stream",
     "text": [
      "              precision    recall  f1-score   support\n",
      "\n",
      "           0       0.91      0.93      0.92        56\n",
      "           1       0.95      0.94      0.95        86\n",
      "\n",
      "    accuracy                           0.94       142\n",
      "   macro avg       0.93      0.94      0.93       142\n",
      "weighted avg       0.94      0.94      0.94       142\n",
      "\n"
     ]
    }
   ],
   "source": [
    "print(classification_report(test , np.round(predictions_array)))"
   ]
  },
  {
   "cell_type": "markdown",
   "id": "9c9d5a39",
   "metadata": {},
   "source": [
    "# Cleanup: Deleting Endpoint and Contents of Bucket"
   ]
  },
  {
   "cell_type": "code",
   "execution_count": 8,
   "id": "77de3652",
   "metadata": {},
   "outputs": [
    {
     "data": {
      "text/plain": [
       "{'ResponseMetadata': {'RequestId': '1ab59a9e-f0a5-4363-b89e-9f4318889c59',\n",
       "  'HTTPStatusCode': 200,\n",
       "  'HTTPHeaders': {'x-amzn-requestid': '1ab59a9e-f0a5-4363-b89e-9f4318889c59',\n",
       "   'content-type': 'application/x-amz-json-1.1',\n",
       "   'content-length': '0',\n",
       "   'date': 'Sun, 06 Nov 2022 15:58:42 GMT'},\n",
       "  'RetryAttempts': 0}}"
      ]
     },
     "execution_count": 8,
     "metadata": {},
     "output_type": "execute_result"
    }
   ],
   "source": [
    "# Deleting Endpoint\n",
    "sagemaker.delete_endpoint(EndpointName=ENDPOINT_NAME)"
   ]
  },
  {
   "cell_type": "code",
   "execution_count": 9,
   "id": "afed53cb",
   "metadata": {},
   "outputs": [
    {
     "data": {
      "text/plain": [
       "[{'ResponseMetadata': {'RequestId': 'Y1PYVSF6V9G6R13W',\n",
       "   'HostId': 'll+qRkRbXCqxgZMc2ILlMxKpiTaDmAbXpDOsdb4z7RfOnNmNYAx+/h3vs33qqoAPCYasqvu+xs0=',\n",
       "   'HTTPStatusCode': 200,\n",
       "   'HTTPHeaders': {'x-amz-id-2': 'll+qRkRbXCqxgZMc2ILlMxKpiTaDmAbXpDOsdb4z7RfOnNmNYAx+/h3vs33qqoAPCYasqvu+xs0=',\n",
       "    'x-amz-request-id': 'Y1PYVSF6V9G6R13W',\n",
       "    'date': 'Sun, 06 Nov 2022 15:58:46 GMT',\n",
       "    'content-type': 'application/xml',\n",
       "    'transfer-encoding': 'chunked',\n",
       "    'server': 'AmazonS3',\n",
       "    'connection': 'close'},\n",
       "   'RetryAttempts': 0},\n",
       "  'Deleted': [{'Key': 'sagemaker/xgboost-breast-cancer-data/output/xgb-linsearch-20221106-15-35-44-005-d5191e12/output/model.tar.gz',\n",
       "    'DeleteMarker': True,\n",
       "    'DeleteMarkerVersionId': 'uLW8apKlCrupW0ywdnuzn6AcP4wYbU84'},\n",
       "   {'Key': 'sagemaker/xgboost-breast-cancer-data/train/train.csv',\n",
       "    'DeleteMarker': True,\n",
       "    'DeleteMarkerVersionId': 'bLsmRIsIARn4bZHslrfOqdT.ECIsTknz'},\n",
       "   {'Key': 'sagemaker/xgboost-breast-cancer-data/output/xgb-linsearch-20221106-15-35-44-001-f152f028/output/model.tar.gz',\n",
       "    'DeleteMarker': True,\n",
       "    'DeleteMarkerVersionId': 'P8TESUAJUYxqUBeQgLlbCVfjPTgCiz3j'},\n",
       "   {'Key': 'sagemaker/xgboost-breast-cancer-data/output/xgb-linsearch-20221106-15-35-44-003-d53d37ff/output/model.tar.gz',\n",
       "    'DeleteMarker': True,\n",
       "    'DeleteMarkerVersionId': '2cvVdIiwHSHoPbkNfxpxz5plr6wYpspY'},\n",
       "   {'Key': 'predictions.csv',\n",
       "    'DeleteMarker': True,\n",
       "    'DeleteMarkerVersionId': 'heF2RIIPVh8BzwSjgjv1ZyNxkjtgZF2f'},\n",
       "   {'Key': 'sagemaker/xgboost-breast-cancer-data/output/xgb-linsearch-20221106-15-35-44-002-cbc0d7a3/output/model.tar.gz',\n",
       "    'DeleteMarker': True,\n",
       "    'DeleteMarkerVersionId': 'x8Vv2epcU8W4KAQFnj6XNIsW7xzu4IVX'},\n",
       "   {'Key': 'sagemaker/xgboost-breast-cancer-data/test/test.csv',\n",
       "    'DeleteMarker': True,\n",
       "    'DeleteMarkerVersionId': 'jRBZmnRoSgtXCKWoUX.B31LJ6TzND8m0'},\n",
       "   {'Key': 'sagemaker/xgboost-breast-cancer-data/output/xgb-linsearch-20221106-15-35-44-004-64e1b4a3/output/model.tar.gz',\n",
       "    'DeleteMarker': True,\n",
       "    'DeleteMarkerVersionId': '_XG0gTKu8WgoC5uB6borlfbYDYQopQeA'},\n",
       "   {'Key': 'test_set.csv',\n",
       "    'DeleteMarker': True,\n",
       "    'DeleteMarkerVersionId': 'hh4hOrI2PbyDZe1S1oaPn1GqJfm8gxyr'},\n",
       "   {'Key': 'test_target.csv',\n",
       "    'DeleteMarker': True,\n",
       "    'DeleteMarkerVersionId': 'e.4Oc3GRJmOIsiUMmRoUVUsurm5eAO9N'}]}]"
      ]
     },
     "execution_count": 9,
     "metadata": {},
     "output_type": "execute_result"
    }
   ],
   "source": [
    "bucket_to_delete = boto3.resource('s3').Bucket(bucket)\n",
    "bucket_to_delete.objects.all().delete()"
   ]
  }
 ],
 "metadata": {
  "kernelspec": {
   "display_name": "conda_python3",
   "language": "python",
   "name": "conda_python3"
  },
  "language_info": {
   "codemirror_mode": {
    "name": "ipython",
    "version": 3
   },
   "file_extension": ".py",
   "mimetype": "text/x-python",
   "name": "python",
   "nbconvert_exporter": "python",
   "pygments_lexer": "ipython3",
   "version": "3.8.12"
  }
 },
 "nbformat": 4,
 "nbformat_minor": 5
}
